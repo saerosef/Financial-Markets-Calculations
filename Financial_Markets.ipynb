{
  "cells": [
    {
      "cell_type": "code",
      "execution_count": 27,
      "metadata": {
        "colab": {
          "base_uri": "https://localhost:8080/"
        },
        "id": "oomh8IrQExbq",
        "outputId": "213597f0-3d33-4108-c198-1d4c9f47f6f7"
      },
      "outputs": [
        {
          "name": "stdout",
          "output_type": "stream",
          "text": [
            "Tarih: 12.12.2023, TTWO Günlük Değişim: 2.06\n",
            "Tarih: 11.12.2023, TTWO Günlük Değişim: -1.85\n",
            "Tarih: 08.12.2023, TTWO Günlük Değişim: 0.94\n",
            "Tarih: 07.12.2023, TTWO Günlük Değişim: -0.89\n",
            "Tarih: 06.12.2023, TTWO Günlük Değişim: -0.18\n",
            "Tarih: 05.12.2023, TTWO Günlük Değişim: 2.5\n",
            "Tarih: 04.12.2023, TTWO Günlük Değişim: 0.21\n",
            "Tarih: 01.12.2023, TTWO Günlük Değişim: -0.85\n",
            "Tarih: 30.11.2023, TTWO Günlük Değişim: 1.03\n",
            "Tarih: 29.11.2023, TTWO Günlük Değişim: -0.58\n",
            "Tarih: 28.11.2023, TTWO Günlük Değişim: 0.41\n",
            "Tarih: 27.11.2023, TTWO Günlük Değişim: 0.22\n",
            "Tarih: 24.11.2023, TTWO Günlük Değişim: -0.08\n",
            "Tarih: 22.11.2023, TTWO Günlük Değişim: -0.52\n",
            "Tarih: 21.11.2023, TTWO Günlük Değişim: -0.08\n",
            "Tarih: 20.11.2023, TTWO Günlük Değişim: 1.89\n",
            "Tarih: 17.11.2023, TTWO Günlük Değişim: -0.53\n",
            "Tarih: 16.11.2023, TTWO Günlük Değişim: 0.9\n",
            "Tarih: 15.11.2023, TTWO Günlük Değişim: 0.3\n",
            "Tarih: 14.11.2023, TTWO Günlük Değişim: 0.31\n",
            "Tarih: 13.11.2023, TTWO Günlük Değişim: 2.44\n",
            "Tarih: 10.11.2023, TTWO Günlük Değişim: 1.2\n",
            "Tarih: 09.11.2023, TTWO Günlük Değişim: -2.31\n",
            "Tarih: 08.11.2023, TTWO Günlük Değişim: -4.74\n",
            "Tarih: 07.11.2023, TTWO Günlük Değişim: 0.68\n"
          ]
        }
      ],
      "source": [
        "# Kapanış ve Açılış Verileri TTWO\n",
        "kapanis = [157.20, 152.56, 155.32, 154.21, 157.32, 156.76, 157.56, 157.84, 158.20, 157.01, 156.68, 156.27, 156.32, 155.88, 155.74, 155.88, 154.39, 154.85, 153.94, 153.40, 150.09, 147.88, 146.32, 143.47, 136.36]\n",
        "acilis = [155.14, 154.41, 154.38, 155.10, 157.50, 154.26, 157.35, 158.69, 157.17, 157.59, 156.27, 156.05, 156.40, 156.40, 155.82, 153.99, 154.92, 153.95, 153.64, 153.09, 147.65, 146.68, 148.63, 148.21, 135.68]\n",
        "\n",
        "# Günlük hisse değişimi\n",
        "gunluk_degisim = [round(k - a, 2) for k, a in zip(kapanis, acilis)]\n",
        "\n",
        "# Sonuçlar\n",
        "for tarih, degisim in zip([\"12.12.2023\", \"11.12.2023\", \"08.12.2023\", \"07.12.2023\", \"06.12.2023\", \"05.12.2023\", \"04.12.2023\", \"01.12.2023\", \"30.11.2023\", \"29.11.2023\", \"28.11.2023\", \"27.11.2023\", \"24.11.2023\", \"22.11.2023\", \"21.11.2023\", \"20.11.2023\", \"17.11.2023\", \"16.11.2023\", \"15.11.2023\", \"14.11.2023\", \"13.11.2023\", \"10.11.2023\", \"09.11.2023\", \"08.11.2023\", \"07.11.2023\"], gunluk_degisim):\n",
        "    print(f\"Tarih: {tarih}, TTWO Günlük Değişim: {degisim}\")\n"
      ]
    },
    {
      "cell_type": "code",
      "execution_count": 28,
      "metadata": {
        "colab": {
          "base_uri": "https://localhost:8080/"
        },
        "id": "6049yzXQHD1y",
        "outputId": "563ee927-ca6f-432d-ad4e-337c395de82f"
      },
      "outputs": [
        {
          "name": "stdout",
          "output_type": "stream",
          "text": [
            "Tarih: 12.12.2023, AAPL Günlük Değişim: 1.63\n",
            "Tarih: 11.12.2023, AAPL Günlük Değişim: 0.07\n",
            "Tarih: 08.12.2023, AAPL Günlük Değişim: 1.51\n",
            "Tarih: 07.12.2023, AAPL Günlük Değişim: 0.64\n",
            "Tarih: 06.12.2023, AAPL Günlük Değişim: -2.13\n",
            "Tarih: 05.12.2023, AAPL Günlük Değişim: 3.21\n",
            "Tarih: 04.12.2023, AAPL Günlük Değişim: -0.55\n",
            "Tarih: 01.12.2023, AAPL Günlük Değişim: 0.91\n",
            "Tarih: 30.11.2023, AAPL Günlük Değişim: 0.11\n",
            "Tarih: 29.11.2023, AAPL Günlük Değişim: -1.53\n",
            "Tarih: 28.11.2023, AAPL Günlük Değişim: 0.62\n",
            "Tarih: 27.11.2023, AAPL Günlük Değişim: -0.13\n",
            "Tarih: 24.11.2023, AAPL Günlük Değişim: -0.9\n",
            "Tarih: 22.11.2023, AAPL Günlük Değişim: -0.18\n",
            "Tarih: 21.11.2023, AAPL Günlük Değişim: -0.77\n",
            "Tarih: 20.11.2023, AAPL Günlük Değişim: 1.56\n",
            "Tarih: 17.11.2023, AAPL Günlük Değişim: -0.56\n",
            "Tarih: 16.11.2023, AAPL Günlük Değişim: 0.14\n",
            "Tarih: 15.11.2023, AAPL Günlük Değişim: 0.16\n",
            "Tarih: 14.11.2023, AAPL Günlük Değişim: -0.26\n",
            "Tarih: 13.11.2023, AAPL Günlük Değişim: -1.02\n",
            "Tarih: 10.11.2023, AAPL Günlük Değişim: 2.43\n",
            "Tarih: 09.11.2023, AAPL Günlük Değişim: -0.55\n",
            "Tarih: 08.11.2023, AAPL Günlük Değişim: 0.54\n",
            "Tarih: 07.11.2023, AAPL Günlük Değişim: 2.64\n"
          ]
        }
      ],
      "source": [
        "# Kapanış ve Açılış Verileri AAPL\n",
        "kapanis = [194.71, 193.18, 195.71, 194.27, 192.32, 193.42, 189.43, 191.24, 189.95, 189.37, 190.40, 189.79, 189.97, 191.31, 190.64, 191.45, 189.69, 189.71, 188.01, 187.44, 184.80, 186.40, 182.41, 182.89, 181.82]\n",
        "acilis = [193.08, 193.11, 194.20, 193.63, 194.45, 190.21, 189.98, 190.33, 189.84, 190.90, 189.78, 189.92, 190.87, 191.49, 191.41, 189.89, 190.25, 189.57, 187.85, 187.70, 185.82, 183.97, 182.96, 182.35, 179.18]\n",
        "\n",
        "# Günlük hisse değişimi\n",
        "gunluk_degisim = [round(k - a, 2) for k, a in zip(kapanis, acilis)]\n",
        "\n",
        "# Sonuçlar\n",
        "for tarih, degisim in zip([\"12.12.2023\", \"11.12.2023\", \"08.12.2023\", \"07.12.2023\", \"06.12.2023\", \"05.12.2023\", \"04.12.2023\", \"01.12.2023\", \"30.11.2023\", \"29.11.2023\", \"28.11.2023\", \"27.11.2023\", \"24.11.2023\", \"22.11.2023\", \"21.11.2023\", \"20.11.2023\", \"17.11.2023\", \"16.11.2023\", \"15.11.2023\", \"14.11.2023\", \"13.11.2023\", \"10.11.2023\", \"09.11.2023\", \"08.11.2023\", \"07.11.2023\"], gunluk_degisim):\n",
        "    print(f\"Tarih: {tarih}, AAPL Günlük Değişim: {degisim}\")\n",
        "\n"
      ]
    },
    {
      "cell_type": "code",
      "execution_count": 26,
      "metadata": {
        "colab": {
          "base_uri": "https://localhost:8080/"
        },
        "id": "LPSHlCItKo6v",
        "outputId": "337080e0-3cf4-46f0-c358-df89d8d346af"
      },
      "outputs": [
        {
          "name": "stdout",
          "output_type": "stream",
          "text": [
            "Tarih: 12.12.2023, MSFT Günlük Değişim: 1.63\n",
            "Tarih: 11.12.2023, MSFT Günlük Değişim: 0.07\n",
            "Tarih: 08.12.2023, MSFT Günlük Değişim: 1.51\n",
            "Tarih: 07.12.2023, MSFT Günlük Değişim: 0.64\n",
            "Tarih: 06.12.2023, MSFT Günlük Değişim: -2.13\n",
            "Tarih: 05.12.2023, MSFT Günlük Değişim: 3.21\n",
            "Tarih: 04.12.2023, MSFT Günlük Değişim: -0.55\n",
            "Tarih: 01.12.2023, MSFT Günlük Değişim: 0.91\n",
            "Tarih: 30.11.2023, MSFT Günlük Değişim: 0.11\n",
            "Tarih: 29.11.2023, MSFT Günlük Değişim: -1.53\n",
            "Tarih: 28.11.2023, MSFT Günlük Değişim: 0.62\n",
            "Tarih: 27.11.2023, MSFT Günlük Değişim: -0.13\n",
            "Tarih: 24.11.2023, MSFT Günlük Değişim: -0.9\n",
            "Tarih: 22.11.2023, MSFT Günlük Değişim: -0.18\n",
            "Tarih: 21.11.2023, MSFT Günlük Değişim: -0.77\n",
            "Tarih: 20.11.2023, MSFT Günlük Değişim: 1.56\n",
            "Tarih: 17.11.2023, MSFT Günlük Değişim: -0.56\n",
            "Tarih: 16.11.2023, MSFT Günlük Değişim: 0.14\n",
            "Tarih: 15.11.2023, MSFT Günlük Değişim: 0.16\n",
            "Tarih: 14.11.2023, MSFT Günlük Değişim: -0.26\n",
            "Tarih: 13.11.2023, MSFT Günlük Değişim: -1.02\n",
            "Tarih: 10.11.2023, MSFT Günlük Değişim: 2.43\n",
            "Tarih: 09.11.2023, MSFT Günlük Değişim: -0.55\n",
            "Tarih: 08.11.2023, MSFT Günlük Değişim: 0.54\n",
            "Tarih: 07.11.2023, MSFT Günlük Değişim: 2.64\n"
          ]
        }
      ],
      "source": [
        "# Yeni Kapanış ve Açılış Verileri MSFT\n",
        "yeni_kapanis = [374.38, 371.30, 374.23, 370.95, 368.80, 372.52, 369.14, 374.51, 378.91, 378.85, 382.70, 378.61, 377.43, 377.85, 373.07, 377.44, 369.85, 376.17, 369.67, 370.27, 366.68, 369.67, 360.69, 363.20, 360.53]\n",
        "yeni_acilis = [370.85, 368.48, 369.20, 368.23, 373.54, 366.45, 369.10, 376.76, 378.49, 383.76, 378.35, 376.78, 377.33, 378.00, 375.67, 371.22, 373.61, 370.96, 371.28, 371.01, 368.22, 361.49, 362.30, 361.68, 359.40]\n",
        "\n",
        "# Günlük hisse değişimi\n",
        "yeni_gunluk_degisim = [round(k - a, 2) for k, a in zip(kapanis, acilis)]\n",
        "\n",
        "# Sonuçlar\n",
        "for tarih, degisim in zip([\"12.12.2023\", \"11.12.2023\", \"08.12.2023\", \"07.12.2023\", \"06.12.2023\", \"05.12.2023\", \"04.12.2023\", \"01.12.2023\", \"30.11.2023\", \"29.11.2023\", \"28.11.2023\", \"27.11.2023\", \"24.11.2023\", \"22.11.2023\", \"21.11.2023\", \"20.11.2023\", \"17.11.2023\", \"16.11.2023\", \"15.11.2023\", \"14.11.2023\", \"13.11.2023\", \"10.11.2023\", \"09.11.2023\", \"08.11.2023\", \"07.11.2023\"], gunluk_degisim):\n",
        "    print(f\"Tarih: {tarih}, MSFT Günlük Değişim: {degisim}\")\n",
        "\n",
        "\n"
      ]
    },
    {
      "cell_type": "code",
      "execution_count": 2,
      "metadata": {
        "colab": {
          "base_uri": "https://localhost:8080/"
        },
        "id": "iSxOiUcY6mXq",
        "outputId": "71d28761-177b-47d2-982f-9e78e7378c61"
      },
      "outputs": [
        {
          "name": "stdout",
          "output_type": "stream",
          "text": [
            "TTWO Standart Deviation: 0.6806308348387791\n",
            "AAPL Standart Deviation: 0.49236323783464425\n",
            "MSFT Standart Deviation: 4.751092975467694\n"
          ]
        }
      ],
      "source": [
        "import numpy as np\n",
        "\n",
        "\n",
        "risk_ttwo = np.array([2.68, 1.43, 0.49, 1.71, 0.16, 0.12, 0.47, 0.27, 1.20, 0.06, 0.06, 0.22, 0.22, 0.35, 0.54, 0.43, 0.14, 1.76, 0.09, 0.67, 0.59, 1.32, 1.44, 0.71, 0.22])\n",
        "risk_aapl = np.array([1.51, 0.24, 0.23, 1.25, 0.51, 0.13, 0.07, 0.04, 0.27, 0.78, 0.37, 0.10, 0.50, 0.07, 0.44, 1.27, 0.05, 0.47, 0.12, 1.72, 0.32, 0.74, 0.02, 0.77])\n",
        "risk_msft = np.array([0.64, 1.08, 2.26, 16.45, 2.07, 0.40, 1.57, 10.20, 8.61, 10.01, 3.04, 0.07, 0.10, 0.10, 1.07, 5.78, 2.43, 0.22, 1.69, 0.02, 14.81, 10.48, 1.90, 3.54, 1.76, 2.21])\n",
        "\n",
        "\n",
        "std_ttwo = np.std(risk_ttwo, ddof=1)\n",
        "std_aapl = np.std(risk_aapl, ddof=1)\n",
        "std_msft = np.std(risk_msft, ddof=1)\n",
        "\n",
        "print(\"TTWO Standart Deviation:\", std_ttwo)\n",
        "print(\"AAPL Standart Deviation:\", std_aapl)\n",
        "print(\"MSFT Standart :\", std_msft)\n"
      ]
    },
    {
      "cell_type": "code",
      "execution_count": 4,
      "metadata": {
        "colab": {
          "base_uri": "https://localhost:8080/"
        },
        "id": "Q5cwfJ8k6nFJ",
        "outputId": "3da08a2e-9ebb-4731-f534-0d776304e6ca"
      },
      "outputs": [
        {
          "name": "stdout",
          "output_type": "stream",
          "text": [
            "Portfolio Risk: 1.3650125483084736\n"
          ]
        }
      ],
      "source": [
        "\n",
        "\n",
        "# Weights of Stocks in Portfolio\n",
        "# we calculated these weights based on the respective percentages of each asset in the portfolio.\"\n",
        "# Asset Value/Total Portfolio Value\n",
        "\n",
        "weight_ttwo = 0.4362\n",
        "weight_aapl = 0.2820\n",
        "weight_msft = 0.2789\n",
        "\n",
        "# Standart Deviations\n",
        "std_ttwo = 0.6806308348387791\n",
        "std_aapl = 0.49236323783464425\n",
        "std_msft = 4.751092975467694\n",
        "\n",
        "# Portfolio Risk Calculation\n",
        "portfolio_risk = np.sqrt((weight_ttwo * std_ttwo)**2 + (weight_aapl * std_aapl)**2 + (weight_msft * std_msft)**2)\n",
        "\n",
        "print(\"Portfolio Risk:\", portfolio_risk)\n",
        "\n"
      ]
    },
    {
      "cell_type": "code",
      "execution_count": 7,
      "metadata": {
        "colab": {
          "base_uri": "https://localhost:8080/"
        },
        "id": "-A1RlL3g-GPU",
        "outputId": "e0d5ce02-75e3-4cde-e87e-779104ce0c5f"
      },
      "outputs": [
        {
          "name": "stdout",
          "output_type": "stream",
          "text": [
            "Mean: 2066.53\n",
            "Standard Deviation: 358.67\n",
            "Coefficient of Variation (CV) of TTWO: 17.36 %\n",
            "\n",
            "Mean: 557.94\n",
            "Standard Deviation: 165.61\n",
            "Coefficient of Variation (CV) of AAPL: 29.68 %\n",
            "\n",
            "Mean: 334.42\n",
            "Standard Deviation: 151.23\n",
            "Coefficient of Variation (CV) of MSFT: 45.22 %\n"
          ]
        }
      ],
      "source": [
        "\n",
        "\n",
        "# Daily returns of TTWO stock\n",
        "daily_returns_ttwo = np.array([1393.83, 1435.45, 1221.00, 1328.67, 1929.51, 1994.56, 2027.97, 2136.84, 2033.41, 2235.54, 2298.52, 2298.52, 2259.07, 2280.49, 2430.01, 2383.39, 2549.11, 2408.97, 2058.38, 2423.02, 2155.62, 2075.70, 2079.03, 2160.06])\n",
        "\n",
        "# Calculation of Mean\n",
        "mean_ttwo = np.mean(daily_returns_ttwo)\n",
        "\n",
        "# Calculation of Standard Deviation of Daily Returns\n",
        "std_dev_ttwo = np.std(daily_returns_ttwo)\n",
        "\n",
        "# Calculation of Coefficient of Variation (CV)\n",
        "cv_ttwo = (std_dev_ttwo / mean_ttwo) * 100\n",
        "\n",
        "\n",
        "\n",
        "\n",
        "# Daily returns of AAPL stock\n",
        "daily_returns_aapl = np.array([171.18, 204.12, 259.66, 359.36, 460.08, 467.18, 561.06, 597.78, 579.54, 660.42, 665.74, 631.26, 606.84, 633.88, 543.78, 633.88, 580.96, 552.88, 573.60, 633.88, 595.62, 825.58, 781.30, 811.08])\n",
        "\n",
        "# Calculation of Mean\n",
        "mean_aapl = np.mean(daily_returns_aapl)\n",
        "\n",
        "# Calculation of Standard Deviation of Daily Returns\n",
        "std_dev_aapl = np.std(daily_returns_aapl)\n",
        "\n",
        "# Calculation of Coefficient of Variation (CV)\n",
        "cv_aapl = (std_dev_aapl / mean_aapl) * 100\n",
        "\n",
        "\n",
        "\n",
        "# Daily returns of MSFT stock\n",
        "daily_returns_msft = np.array([61.56, 78.30, 56.43, 238.14, 313.47, 321.24, 312.32, 383.67, 319.14, 439.29, 501.00, 484.11, 469.26, 511.65, 658.92, 516.63, 469.72, 261.90, 190.35, 381.78, 238.41, 264.60, 245.16, 309.15])\n",
        "\n",
        "# Calculation of Mean\n",
        "mean_msft = np.mean(daily_returns_msft)\n",
        "\n",
        "# Calculation of Standard Deviation of Daily Returns\n",
        "std_dev_msft = np.std(daily_returns_msft)\n",
        "\n",
        "# Calculation of Coefficient of Variation (CV)\n",
        "cv_msft = (std_dev_msft / mean_msft) * 100\n",
        "\n",
        "\n",
        "\n",
        "# Printing the results\n",
        "print(\"Mean:\", round(mean_ttwo, 2))\n",
        "print(\"Standard Deviation:\", round(std_dev_ttwo, 2))\n",
        "print(\"Coefficient of Variation (CV) of TTWO:\", round(cv_ttwo, 2), \"%\")\n",
        "print()\n",
        "\n",
        "print(\"Mean:\", round(mean_aapl, 2))\n",
        "print(\"Standard Deviation:\", round(std_dev_aapl, 2))\n",
        "print(\"Coefficient of Variation (CV) of AAPL:\", round(cv_aapl, 2), \"%\")\n",
        "print()\n",
        "\n",
        "print(\"Mean:\", round(mean_msft, 2))\n",
        "print(\"Standard Deviation:\", round(std_dev_msft, 2))\n",
        "print(\"Coefficient of Variation (CV) of MSFT:\", round(cv_msft, 2), \"%\")\n",
        "\n",
        "\n"
      ]
    }
  ],
  "metadata": {
    "colab": {
      "provenance": []
    },
    "kernelspec": {
      "display_name": "Python 3",
      "name": "python3"
    },
    "language_info": {
      "name": "python"
    }
  },
  "nbformat": 4,
  "nbformat_minor": 0
}
